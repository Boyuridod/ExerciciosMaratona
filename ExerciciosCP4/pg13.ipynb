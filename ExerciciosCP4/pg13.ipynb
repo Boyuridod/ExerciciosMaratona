{
 "cells": [
  {
   "cell_type": "markdown",
   "id": "15c4927c",
   "metadata": {},
   "source": [
    "Pg 13 (ou pg 47 do doc)"
   ]
  },
  {
   "cell_type": "markdown",
   "id": "460cee49",
   "metadata": {},
   "source": [
    "Exercise 1.3.4.1: Produce a working code that is as concise as possible for the following\n",
    "tasks below. Unless explicitly stated, you are allowed to use any programming language that\n",
    "you are most comfortable with.\n",
    "1. Using **Java** or any programing language, read in a double\n",
    "(e.g., 1.4732, 15.324547327, etc.)\n",
    "echo it, but with a minimum field width of 7 and 3 digits after the decimal point\n",
    "(e.g., ss1.473 (where ‘s’ denotes a space), s15.325, etc.)"
   ]
  },
  {
   "cell_type": "code",
   "execution_count": null,
   "id": "f8bc8112",
   "metadata": {},
   "outputs": [],
   "source": []
  },
  {
   "cell_type": "markdown",
   "id": "25064a96",
   "metadata": {},
   "source": [
    "2. Given an integer n (n  15), print ⇡ to n digits after the decimal point (rounded).\n",
    "(e.g., for n = 2, print 3.14; for n = 4, print 3.1416; for n = 5, prints 3.14159.)"
   ]
  },
  {
   "cell_type": "markdown",
   "id": "9335e476",
   "metadata": {},
   "source": [
    "3. Given a date (in the past), determine the day of the week (Monday, . . . , Sunday) on\n",
    "that day and the number of day(s) that has elapsed since that day until present.\n",
    "(e.g., 9 August 2010—the launch date of the first edition of this book—is a Monday.)"
   ]
  },
  {
   "cell_type": "markdown",
   "id": "2c553732",
   "metadata": {},
   "source": [
    "4. Given n random integers, print the distinct (unique) integers in sorted order."
   ]
  },
  {
   "cell_type": "markdown",
   "id": "b0c91e65",
   "metadata": {},
   "source": [
    "5. Given the distinct and valid birthdates of n people as triples (DD, MM, YYYY), order\n",
    "them first by ascending birth months (MM), then by ascending birth dates (DD), and\n",
    "finally by ascending age."
   ]
  },
  {
   "cell_type": "markdown",
   "id": "4342499f",
   "metadata": {},
   "source": [
    "6. Given a list of sorted integers L of size up to 1M items, determine whether a value v\n",
    "exists in L with no more than 20 comparisons (more details in Section 2.2)."
   ]
  },
  {
   "cell_type": "markdown",
   "id": "22de3c70",
   "metadata": {},
   "source": [
    "7. Generate all possible permutations of {‘A’, ‘B’, ‘C’, . . . , ‘J’}, the first N = 10 letters\n",
    "in the alphabet (see Section 3.2.1)."
   ]
  },
  {
   "cell_type": "markdown",
   "id": "90f0284e",
   "metadata": {},
   "source": [
    "8. Generate all possible subsets of {1, 2, . . . , 20}, the first N = 20 positive integers (see\n",
    "Section 3.2.1)."
   ]
  },
  {
   "cell_type": "markdown",
   "id": "7b3ea906",
   "metadata": {},
   "source": [
    "9. Given a string that represents a base X number, convert it to an equivalent string in\n",
    "base Y, 2  X, Y  36. For example: “FF” in base X = 16 (hexadecimal) is “255” in\n",
    "base Y1 = 10 (decimal) and “11111111” in base Y2 = 2 (binary). See Book 2."
   ]
  },
  {
   "cell_type": "markdown",
   "id": "4793ee82",
   "metadata": {},
   "source": [
    "10. Let’s define a ‘special word’ as a lowercase alphabet followed by two consecutive digits.\n",
    "Given a string, replace all ‘special words’ of length 3 with 3 stars “***”, e.g.,\n",
    "S = “line: a70 and z72 will be replaced, aa24 and a872 will not”\n",
    "should be transformed into:\n",
    "S = “line: *** and *** will be replaced, aa24 and a872 will not”."
   ]
  },
  {
   "cell_type": "markdown",
   "id": "6dcdbe1e",
   "metadata": {},
   "source": [
    "11. Given an integer X that can contain up to 20 digits, output ‘Prime’ if X is a prime or\n",
    "‘Composite’ otherwise."
   ]
  },
  {
   "cell_type": "markdown",
   "id": "5f6db4e7",
   "metadata": {},
   "source": [
    "12. Given a valid mathematical expression involving ‘+’, ‘-’, ‘*’, ‘/’, ‘(’, and ‘)’ in a sin-\n",
    "gle line, evaluate that expression. (e.g., a rather complicated but valid expression 3\n",
    "+ (8 - 7.5) * 10 / 5 - (2 + 5 * 7) should produce -33.0 when evaluated with\n",
    "standard operator precedence.)"
   ]
  }
 ],
 "metadata": {
  "language_info": {
   "name": "python"
  }
 },
 "nbformat": 4,
 "nbformat_minor": 5
}
